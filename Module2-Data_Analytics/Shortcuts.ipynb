{
 "cells": [
  {
   "cell_type": "code",
   "execution_count": null,
   "id": "42ecb836-f207-4a88-9612-5edf5ad947da",
   "metadata": {},
   "outputs": [],
   "source": [
    "To update github:\n",
    "    \n",
    "1.) Add files\n",
    "     git add --all\n",
    "2.) Commit any changes on local repository\n",
    "    git commit -a -m \"message here\"\n",
    "3.) Push data\n",
    "    git push\n",
    "4.) Pull changes from remote repositry #like at the beginning of class\n",
    "    git pull upstream master\n",
    " \n",
    "change directory to module 1\n",
    "cd /Users/chrisbenedict/courses/Data-Analytics-With-Python/Module1-Intro_to_Python\n",
    "\n",
    "To exit weird terminal screen\n",
    "CTRL + C\n",
    ":qa enter\n",
    "\n",
    "\n"
   ]
  },
  {
   "cell_type": "code",
   "execution_count": null,
   "id": "3f4986ad-2588-4ab7-b639-e7d98f19cc54",
   "metadata": {},
   "outputs": [],
   "source": [
    "To upload changes to GitHub:\n",
    "\n",
    "Commit\n",
    "    git commit -a -m \n",
    "\n",
    "To download changes from GitHub:\n",
    "    git pull upstream master\n",
    "\n",
    "To check git status:\n",
    "    git status\n",
    "\n",
    "Adding file:\n",
    "    git add <filename>\n",
    "\n",
    "Add all new files:\n",
    "    git add --all\n",
    "\n",
    "Looking at differences before committing:\n",
    "    git diff README.md\n",
    "\n",
    "Push changes to GitHub:\n",
    "    git push origin main  \n",
    "\n"
   ]
  }
 ],
 "metadata": {
  "kernelspec": {
   "display_name": "Python 3 (ipykernel)",
   "language": "python",
   "name": "python3"
  },
  "language_info": {
   "codemirror_mode": {
    "name": "ipython",
    "version": 3
   },
   "file_extension": ".py",
   "mimetype": "text/x-python",
   "name": "python",
   "nbconvert_exporter": "python",
   "pygments_lexer": "ipython3",
   "version": "3.9.16"
  },
  "toc-autonumbering": false,
  "toc-showcode": false,
  "toc-showmarkdowntxt": true,
  "toc-showtags": true
 },
 "nbformat": 4,
 "nbformat_minor": 5
}
