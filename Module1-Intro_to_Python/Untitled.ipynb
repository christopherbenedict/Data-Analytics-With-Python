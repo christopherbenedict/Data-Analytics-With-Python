{
 "cells": [
  {
   "cell_type": "code",
   "execution_count": null,
   "id": "42ecb836-f207-4a88-9612-5edf5ad947da",
   "metadata": {},
   "outputs": [],
   "source": [
    "To download changes from GitHub:\n"
   ]
  },
  {
   "cell_type": "code",
   "execution_count": null,
   "id": "3f4986ad-2588-4ab7-b639-e7d98f19cc54",
   "metadata": {},
   "outputs": [],
   "source": [
    "To upload changes to GitHub:\n",
    "    "
   ]
  }
 ],
 "metadata": {
  "kernelspec": {
   "display_name": "Python 3 (ipykernel)",
   "language": "python",
   "name": "python3"
  },
  "language_info": {
   "codemirror_mode": {
    "name": "ipython",
    "version": 3
   },
   "file_extension": ".py",
   "mimetype": "text/x-python",
   "name": "python",
   "nbconvert_exporter": "python",
   "pygments_lexer": "ipython3",
   "version": "3.9.13"
  }
 },
 "nbformat": 4,
 "nbformat_minor": 5
}
