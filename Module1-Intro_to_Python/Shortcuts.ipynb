{
 "cells": [
  {
   "cell_type": "code",
   "execution_count": null,
   "id": "42ecb836-f207-4a88-9612-5edf5ad947da",
   "metadata": {},
   "outputs": [],
   "source": [
    "To update github:\n",
    "    \n",
    "1.) Commit any changes on local repository\n",
    "    git commit -a -m \"message here\"\n",
    "2.) Pull changes from remote repositry #like at the beginning of class\n",
    "    git pull upstream master\n",
    "3.) \n",
    "\n",
    "\n",
    "\n",
    "\n",
    "\n"
   ]
  },
  {
   "cell_type": "code",
   "execution_count": null,
   "id": "3f4986ad-2588-4ab7-b639-e7d98f19cc54",
   "metadata": {},
   "outputs": [],
   "source": [
    "To upload changes to GitHub:\n",
    "\n",
    "Commit\n",
    "    git commit -a -m \n",
    "\n",
    "To download changes from GitHub:\n",
    "    git pull upstream master\n",
    "\n",
    "To check git status:\n",
    "    git status\n",
    "\n",
    "Adding file:\n",
    "    git add <filename>\n",
    "\n",
    "Looking at differences before committing:\n",
    "    git diff README.md\n",
    "\n",
    "Push changes to GitHub:\n",
    "    git push origin main  \n",
    "\n"
   ]
  }
 ],
 "metadata": {
  "kernelspec": {
   "display_name": "Python 3 (ipykernel)",
   "language": "python",
   "name": "python3"
  },
  "language_info": {
   "codemirror_mode": {
    "name": "ipython",
    "version": 3
   },
   "file_extension": ".py",
   "mimetype": "text/x-python",
   "name": "python",
   "nbconvert_exporter": "python",
   "pygments_lexer": "ipython3",
   "version": "3.9.13"
  },
  "toc-autonumbering": false,
  "toc-showcode": false,
  "toc-showmarkdowntxt": true,
  "toc-showtags": true
 },
 "nbformat": 4,
 "nbformat_minor": 5
}
